{
  "nbformat": 4,
  "nbformat_minor": 0,
  "metadata": {
    "colab": {
      "provenance": []
    },
    "kernelspec": {
      "name": "python3",
      "display_name": "Python 3"
    },
    "language_info": {
      "name": "python"
    }
  },
  "cells": [
    {
      "cell_type": "code",
      "execution_count": null,
      "metadata": {
        "id": "dDMJTEUpXm6r"
      },
      "outputs": [],
      "source": [
        "import numpy as np\n",
        "import pandas as pd\n",
        "import math\n",
        "from sklearn.tree import plot_tree\n",
        "from sklearn.tree import DecisionTreeClassifier\n",
        "from sklearn.tree import DecisionTreeRegressor\n",
        "from sklearn.model_selection import train_test_split\n",
        "from sklearn.metrics import accuracy_score , mean_squared_error, mean_absolute_error\n",
        "import matplotlib.pyplot as plt\n",
        "from sklearn.model_selection import cross_validate"
      ]
    },
    {
      "cell_type": "code",
      "source": [
        "train = pd.read_csv(\"/content/sample_data/california_housing_train.csv\", header=None)\n",
        "test = pd.read_csv(\"/content/sample_data/california_housing_test.csv\", header=None)"
      ],
      "metadata": {
        "id": "JX8IDjFwZvHH"
      },
      "execution_count": null,
      "outputs": []
    },
    {
      "cell_type": "code",
      "source": [
        "train.head()"
      ],
      "metadata": {
        "colab": {
          "base_uri": "https://localhost:8080/",
          "height": 270
        },
        "id": "cD8nvXoVZ6qm",
        "outputId": "771ab565-590a-4ef0-90f9-eec94bb56a37"
      },
      "execution_count": null,
      "outputs": [
        {
          "output_type": "execute_result",
          "data": {
            "text/plain": [
              "             0          1                   2            3               4  \\\n",
              "0    longitude   latitude  housing_median_age  total_rooms  total_bedrooms   \n",
              "1  -114.310000  34.190000           15.000000  5612.000000     1283.000000   \n",
              "2  -114.470000  34.400000           19.000000  7650.000000     1901.000000   \n",
              "3  -114.560000  33.690000           17.000000   720.000000      174.000000   \n",
              "4  -114.570000  33.640000           14.000000  1501.000000      337.000000   \n",
              "\n",
              "             5           6              7                   8  \n",
              "0   population  households  median_income  median_house_value  \n",
              "1  1015.000000  472.000000       1.493600        66900.000000  \n",
              "2  1129.000000  463.000000       1.820000        80100.000000  \n",
              "3   333.000000  117.000000       1.650900        85700.000000  \n",
              "4   515.000000  226.000000       3.191700        73400.000000  "
            ],
            "text/html": [
              "\n",
              "\n",
              "  <div id=\"df-0d4f49c4-46d1-48b6-b1e9-8e94fb956502\">\n",
              "    <div class=\"colab-df-container\">\n",
              "      <div>\n",
              "<style scoped>\n",
              "    .dataframe tbody tr th:only-of-type {\n",
              "        vertical-align: middle;\n",
              "    }\n",
              "\n",
              "    .dataframe tbody tr th {\n",
              "        vertical-align: top;\n",
              "    }\n",
              "\n",
              "    .dataframe thead th {\n",
              "        text-align: right;\n",
              "    }\n",
              "</style>\n",
              "<table border=\"1\" class=\"dataframe\">\n",
              "  <thead>\n",
              "    <tr style=\"text-align: right;\">\n",
              "      <th></th>\n",
              "      <th>0</th>\n",
              "      <th>1</th>\n",
              "      <th>2</th>\n",
              "      <th>3</th>\n",
              "      <th>4</th>\n",
              "      <th>5</th>\n",
              "      <th>6</th>\n",
              "      <th>7</th>\n",
              "      <th>8</th>\n",
              "    </tr>\n",
              "  </thead>\n",
              "  <tbody>\n",
              "    <tr>\n",
              "      <th>0</th>\n",
              "      <td>longitude</td>\n",
              "      <td>latitude</td>\n",
              "      <td>housing_median_age</td>\n",
              "      <td>total_rooms</td>\n",
              "      <td>total_bedrooms</td>\n",
              "      <td>population</td>\n",
              "      <td>households</td>\n",
              "      <td>median_income</td>\n",
              "      <td>median_house_value</td>\n",
              "    </tr>\n",
              "    <tr>\n",
              "      <th>1</th>\n",
              "      <td>-114.310000</td>\n",
              "      <td>34.190000</td>\n",
              "      <td>15.000000</td>\n",
              "      <td>5612.000000</td>\n",
              "      <td>1283.000000</td>\n",
              "      <td>1015.000000</td>\n",
              "      <td>472.000000</td>\n",
              "      <td>1.493600</td>\n",
              "      <td>66900.000000</td>\n",
              "    </tr>\n",
              "    <tr>\n",
              "      <th>2</th>\n",
              "      <td>-114.470000</td>\n",
              "      <td>34.400000</td>\n",
              "      <td>19.000000</td>\n",
              "      <td>7650.000000</td>\n",
              "      <td>1901.000000</td>\n",
              "      <td>1129.000000</td>\n",
              "      <td>463.000000</td>\n",
              "      <td>1.820000</td>\n",
              "      <td>80100.000000</td>\n",
              "    </tr>\n",
              "    <tr>\n",
              "      <th>3</th>\n",
              "      <td>-114.560000</td>\n",
              "      <td>33.690000</td>\n",
              "      <td>17.000000</td>\n",
              "      <td>720.000000</td>\n",
              "      <td>174.000000</td>\n",
              "      <td>333.000000</td>\n",
              "      <td>117.000000</td>\n",
              "      <td>1.650900</td>\n",
              "      <td>85700.000000</td>\n",
              "    </tr>\n",
              "    <tr>\n",
              "      <th>4</th>\n",
              "      <td>-114.570000</td>\n",
              "      <td>33.640000</td>\n",
              "      <td>14.000000</td>\n",
              "      <td>1501.000000</td>\n",
              "      <td>337.000000</td>\n",
              "      <td>515.000000</td>\n",
              "      <td>226.000000</td>\n",
              "      <td>3.191700</td>\n",
              "      <td>73400.000000</td>\n",
              "    </tr>\n",
              "  </tbody>\n",
              "</table>\n",
              "</div>\n",
              "      <button class=\"colab-df-convert\" onclick=\"convertToInteractive('df-0d4f49c4-46d1-48b6-b1e9-8e94fb956502')\"\n",
              "              title=\"Convert this dataframe to an interactive table.\"\n",
              "              style=\"display:none;\">\n",
              "\n",
              "  <svg xmlns=\"http://www.w3.org/2000/svg\" height=\"24px\"viewBox=\"0 0 24 24\"\n",
              "       width=\"24px\">\n",
              "    <path d=\"M0 0h24v24H0V0z\" fill=\"none\"/>\n",
              "    <path d=\"M18.56 5.44l.94 2.06.94-2.06 2.06-.94-2.06-.94-.94-2.06-.94 2.06-2.06.94zm-11 1L8.5 8.5l.94-2.06 2.06-.94-2.06-.94L8.5 2.5l-.94 2.06-2.06.94zm10 10l.94 2.06.94-2.06 2.06-.94-2.06-.94-.94-2.06-.94 2.06-2.06.94z\"/><path d=\"M17.41 7.96l-1.37-1.37c-.4-.4-.92-.59-1.43-.59-.52 0-1.04.2-1.43.59L10.3 9.45l-7.72 7.72c-.78.78-.78 2.05 0 2.83L4 21.41c.39.39.9.59 1.41.59.51 0 1.02-.2 1.41-.59l7.78-7.78 2.81-2.81c.8-.78.8-2.07 0-2.86zM5.41 20L4 18.59l7.72-7.72 1.47 1.35L5.41 20z\"/>\n",
              "  </svg>\n",
              "      </button>\n",
              "\n",
              "\n",
              "\n",
              "    <div id=\"df-7dc94197-b18a-4e6d-a758-d8fd9d4d22ba\">\n",
              "      <button class=\"colab-df-quickchart\" onclick=\"quickchart('df-7dc94197-b18a-4e6d-a758-d8fd9d4d22ba')\"\n",
              "              title=\"Suggest charts.\"\n",
              "              style=\"display:none;\">\n",
              "\n",
              "<svg xmlns=\"http://www.w3.org/2000/svg\" height=\"24px\"viewBox=\"0 0 24 24\"\n",
              "     width=\"24px\">\n",
              "    <g>\n",
              "        <path d=\"M19 3H5c-1.1 0-2 .9-2 2v14c0 1.1.9 2 2 2h14c1.1 0 2-.9 2-2V5c0-1.1-.9-2-2-2zM9 17H7v-7h2v7zm4 0h-2V7h2v10zm4 0h-2v-4h2v4z\"/>\n",
              "    </g>\n",
              "</svg>\n",
              "      </button>\n",
              "    </div>\n",
              "\n",
              "<style>\n",
              "  .colab-df-quickchart {\n",
              "    background-color: #E8F0FE;\n",
              "    border: none;\n",
              "    border-radius: 50%;\n",
              "    cursor: pointer;\n",
              "    display: none;\n",
              "    fill: #1967D2;\n",
              "    height: 32px;\n",
              "    padding: 0 0 0 0;\n",
              "    width: 32px;\n",
              "  }\n",
              "\n",
              "  .colab-df-quickchart:hover {\n",
              "    background-color: #E2EBFA;\n",
              "    box-shadow: 0px 1px 2px rgba(60, 64, 67, 0.3), 0px 1px 3px 1px rgba(60, 64, 67, 0.15);\n",
              "    fill: #174EA6;\n",
              "  }\n",
              "\n",
              "  [theme=dark] .colab-df-quickchart {\n",
              "    background-color: #3B4455;\n",
              "    fill: #D2E3FC;\n",
              "  }\n",
              "\n",
              "  [theme=dark] .colab-df-quickchart:hover {\n",
              "    background-color: #434B5C;\n",
              "    box-shadow: 0px 1px 3px 1px rgba(0, 0, 0, 0.15);\n",
              "    filter: drop-shadow(0px 1px 2px rgba(0, 0, 0, 0.3));\n",
              "    fill: #FFFFFF;\n",
              "  }\n",
              "</style>\n",
              "\n",
              "    <script>\n",
              "      async function quickchart(key) {\n",
              "        const containerElement = document.querySelector('#' + key);\n",
              "        const charts = await google.colab.kernel.invokeFunction(\n",
              "            'suggestCharts', [key], {});\n",
              "      }\n",
              "    </script>\n",
              "\n",
              "      <script>\n",
              "\n",
              "function displayQuickchartButton(domScope) {\n",
              "  let quickchartButtonEl =\n",
              "    domScope.querySelector('#df-7dc94197-b18a-4e6d-a758-d8fd9d4d22ba button.colab-df-quickchart');\n",
              "  quickchartButtonEl.style.display =\n",
              "    google.colab.kernel.accessAllowed ? 'block' : 'none';\n",
              "}\n",
              "\n",
              "        displayQuickchartButton(document);\n",
              "      </script>\n",
              "      <style>\n",
              "    .colab-df-container {\n",
              "      display:flex;\n",
              "      flex-wrap:wrap;\n",
              "      gap: 12px;\n",
              "    }\n",
              "\n",
              "    .colab-df-convert {\n",
              "      background-color: #E8F0FE;\n",
              "      border: none;\n",
              "      border-radius: 50%;\n",
              "      cursor: pointer;\n",
              "      display: none;\n",
              "      fill: #1967D2;\n",
              "      height: 32px;\n",
              "      padding: 0 0 0 0;\n",
              "      width: 32px;\n",
              "    }\n",
              "\n",
              "    .colab-df-convert:hover {\n",
              "      background-color: #E2EBFA;\n",
              "      box-shadow: 0px 1px 2px rgba(60, 64, 67, 0.3), 0px 1px 3px 1px rgba(60, 64, 67, 0.15);\n",
              "      fill: #174EA6;\n",
              "    }\n",
              "\n",
              "    [theme=dark] .colab-df-convert {\n",
              "      background-color: #3B4455;\n",
              "      fill: #D2E3FC;\n",
              "    }\n",
              "\n",
              "    [theme=dark] .colab-df-convert:hover {\n",
              "      background-color: #434B5C;\n",
              "      box-shadow: 0px 1px 3px 1px rgba(0, 0, 0, 0.15);\n",
              "      filter: drop-shadow(0px 1px 2px rgba(0, 0, 0, 0.3));\n",
              "      fill: #FFFFFF;\n",
              "    }\n",
              "  </style>\n",
              "\n",
              "      <script>\n",
              "        const buttonEl =\n",
              "          document.querySelector('#df-0d4f49c4-46d1-48b6-b1e9-8e94fb956502 button.colab-df-convert');\n",
              "        buttonEl.style.display =\n",
              "          google.colab.kernel.accessAllowed ? 'block' : 'none';\n",
              "\n",
              "        async function convertToInteractive(key) {\n",
              "          const element = document.querySelector('#df-0d4f49c4-46d1-48b6-b1e9-8e94fb956502');\n",
              "          const dataTable =\n",
              "            await google.colab.kernel.invokeFunction('convertToInteractive',\n",
              "                                                     [key], {});\n",
              "          if (!dataTable) return;\n",
              "\n",
              "          const docLinkHtml = 'Like what you see? Visit the ' +\n",
              "            '<a target=\"_blank\" href=https://colab.research.google.com/notebooks/data_table.ipynb>data table notebook</a>'\n",
              "            + ' to learn more about interactive tables.';\n",
              "          element.innerHTML = '';\n",
              "          dataTable['output_type'] = 'display_data';\n",
              "          await google.colab.output.renderOutput(dataTable, element);\n",
              "          const docLink = document.createElement('div');\n",
              "          docLink.innerHTML = docLinkHtml;\n",
              "          element.appendChild(docLink);\n",
              "        }\n",
              "      </script>\n",
              "    </div>\n",
              "  </div>\n"
            ]
          },
          "metadata": {},
          "execution_count": 120
        }
      ]
    },
    {
      "cell_type": "code",
      "source": [
        "# Se entrena desde la columna 1 para adelante\n",
        "X = train.iloc[:,1:].to_numpy()\n",
        "# se quiere predecir solo la columno 0\n",
        "y = train.iloc[:,0].to_numpy()"
      ],
      "metadata": {
        "id": "DB72EAoxZ8li"
      },
      "execution_count": null,
      "outputs": []
    },
    {
      "cell_type": "code",
      "source": [
        "# Se entrena desde la columna 1 para adelante\n",
        "X_hat = test.iloc[:,1:].to_numpy()\n",
        "# se quiere predecir solo la columno 0\n",
        "y_hat = test.iloc[:,0].to_numpy()"
      ],
      "metadata": {
        "id": "PBfJLqVTaAaE"
      },
      "execution_count": null,
      "outputs": []
    },
    {
      "cell_type": "code",
      "source": [
        "X"
      ],
      "metadata": {
        "colab": {
          "base_uri": "https://localhost:8080/"
        },
        "id": "A8jrbno0aCqR",
        "outputId": "7db22efa-c385-4eb4-c52b-ce2e869cce05"
      },
      "execution_count": null,
      "outputs": [
        {
          "output_type": "execute_result",
          "data": {
            "text/plain": [
              "array([['latitude', 'housing_median_age', 'total_rooms', ...,\n",
              "        'households', 'median_income', 'median_house_value'],\n",
              "       ['34.190000', '15.000000', '5612.000000', ..., '472.000000',\n",
              "        '1.493600', '66900.000000'],\n",
              "       ['34.400000', '19.000000', '7650.000000', ..., '463.000000',\n",
              "        '1.820000', '80100.000000'],\n",
              "       ...,\n",
              "       ['41.840000', '17.000000', '2677.000000', ..., '456.000000',\n",
              "        '3.031300', '103600.000000'],\n",
              "       ['41.800000', '19.000000', '2672.000000', ..., '478.000000',\n",
              "        '1.979700', '85800.000000'],\n",
              "       ['40.540000', '52.000000', '1820.000000', ..., '270.000000',\n",
              "        '3.014700', '94600.000000']], dtype=object)"
            ]
          },
          "metadata": {},
          "execution_count": 123
        }
      ]
    },
    {
      "cell_type": "code",
      "source": [
        "num_rows, num_columns = data.shape\n",
        "print(\"Número de filas:\", num_rows)\n",
        "print(\"Número de columnas:\", num_columns)"
      ],
      "metadata": {
        "colab": {
          "base_uri": "https://localhost:8080/"
        },
        "id": "j1ET9DJwaWQE",
        "outputId": "0358eeb2-386a-4d2a-bb6f-533ff49b4ef4"
      },
      "execution_count": null,
      "outputs": [
        {
          "output_type": "stream",
          "name": "stdout",
          "text": [
            "Número de filas: 17000\n",
            "Número de columnas: 9\n"
          ]
        }
      ]
    },
    {
      "cell_type": "code",
      "source": [
        "y[1]"
      ],
      "metadata": {
        "colab": {
          "base_uri": "https://localhost:8080/",
          "height": 36
        },
        "id": "YUmFQpBMaG_L",
        "outputId": "1a05f946-bd47-4188-acff-e5da5430a6dc"
      },
      "execution_count": null,
      "outputs": [
        {
          "output_type": "execute_result",
          "data": {
            "text/plain": [
              "'-114.310000'"
            ],
            "application/vnd.google.colaboratory.intrinsic+json": {
              "type": "string"
            }
          },
          "metadata": {},
          "execution_count": 125
        }
      ]
    },
    {
      "cell_type": "code",
      "source": [
        "print(\"acc train: {} + +- {}\"\\\n",
        "      .format(100*res[\"train_score\"].mean(),\n",
        "              100*res[\"train_score\"].std()))\n",
        "print(\"acc val: {} + +- {}\"\\\n",
        "      .format(100*res[\"test_score\"].mean(),\n",
        "              100*res[\"test_score\"].std()))"
      ],
      "metadata": {
        "colab": {
          "base_uri": "https://localhost:8080/"
        },
        "id": "T6BqsDw5bTWf",
        "outputId": "4fa2b0d5-74c9-42df-9cbe-ca35720c8594"
      },
      "execution_count": null,
      "outputs": [
        {
          "output_type": "stream",
          "name": "stdout",
          "text": [
            "acc train: nan + +- nan\n",
            "acc val: nan + +- nan\n"
          ]
        }
      ]
    },
    {
      "cell_type": "code",
      "source": [
        "print(\"acc train: {} + +- {}\"\\\n",
        "      .format(100*res[\"train_score\"].mean(),\n",
        "              100*res[\"train_score\"].std()))\n",
        "print(\"acc val: {} + +- {}\"\\\n",
        "      .format(100*res[\"test_score\"].mean(),\n",
        "              100*res[\"test_score\"].std()))"
      ],
      "metadata": {
        "colab": {
          "base_uri": "https://localhost:8080/"
        },
        "id": "hCcu1E57baxp",
        "outputId": "339a9c3d-d01f-4810-a4f7-fbe9de56d2f5"
      },
      "execution_count": null,
      "outputs": [
        {
          "output_type": "stream",
          "name": "stdout",
          "text": [
            "acc train: nan + +- nan\n",
            "acc val: nan + +- nan\n"
          ]
        }
      ]
    },
    {
      "cell_type": "code",
      "source": [
        "# Entrenar a la máquina\n",
        "model = DecisionTreeClassifier(max_depth=10)"
      ],
      "metadata": {
        "id": "IRRSXg2-bdG0"
      },
      "execution_count": null,
      "outputs": []
    },
    {
      "cell_type": "code",
      "source": [
        "# Crear y entrenar el modelo\n",
        "model = DecisionTreeClassifier()"
      ],
      "metadata": {
        "id": "jYcaCSAkm3R3"
      },
      "execution_count": null,
      "outputs": []
    },
    {
      "cell_type": "code",
      "source": [
        "print(train.info)"
      ],
      "metadata": {
        "colab": {
          "base_uri": "https://localhost:8080/"
        },
        "id": "XDLLLDXAoWDA",
        "outputId": "50f84216-a618-4531-f547-b8fc9ac0e6ca"
      },
      "execution_count": null,
      "outputs": [
        {
          "output_type": "stream",
          "name": "stdout",
          "text": [
            "<bound method DataFrame.info of                  0          1                   2            3  \\\n",
            "0        longitude   latitude  housing_median_age  total_rooms   \n",
            "1      -114.310000  34.190000           15.000000  5612.000000   \n",
            "2      -114.470000  34.400000           19.000000  7650.000000   \n",
            "3      -114.560000  33.690000           17.000000   720.000000   \n",
            "4      -114.570000  33.640000           14.000000  1501.000000   \n",
            "...            ...        ...                 ...          ...   \n",
            "16996  -124.260000  40.580000           52.000000  2217.000000   \n",
            "16997  -124.270000  40.690000           36.000000  2349.000000   \n",
            "16998  -124.300000  41.840000           17.000000  2677.000000   \n",
            "16999  -124.300000  41.800000           19.000000  2672.000000   \n",
            "17000  -124.350000  40.540000           52.000000  1820.000000   \n",
            "\n",
            "                    4            5           6              7  \\\n",
            "0      total_bedrooms   population  households  median_income   \n",
            "1         1283.000000  1015.000000  472.000000       1.493600   \n",
            "2         1901.000000  1129.000000  463.000000       1.820000   \n",
            "3          174.000000   333.000000  117.000000       1.650900   \n",
            "4          337.000000   515.000000  226.000000       3.191700   \n",
            "...               ...          ...         ...            ...   \n",
            "16996      394.000000   907.000000  369.000000       2.357100   \n",
            "16997      528.000000  1194.000000  465.000000       2.517900   \n",
            "16998      531.000000  1244.000000  456.000000       3.031300   \n",
            "16999      552.000000  1298.000000  478.000000       1.979700   \n",
            "17000      300.000000   806.000000  270.000000       3.014700   \n",
            "\n",
            "                        8  \n",
            "0      median_house_value  \n",
            "1            66900.000000  \n",
            "2            80100.000000  \n",
            "3            85700.000000  \n",
            "4            73400.000000  \n",
            "...                   ...  \n",
            "16996       111400.000000  \n",
            "16997        79000.000000  \n",
            "16998       103600.000000  \n",
            "16999        85800.000000  \n",
            "17000        94600.000000  \n",
            "\n",
            "[17001 rows x 9 columns]>\n"
          ]
        }
      ]
    },
    {
      "cell_type": "code",
      "source": [
        "X_train = train.iloc[:, :-1]\n",
        "y_train = train.iloc[:, -1]\n",
        "X_test = test.iloc[:, :-1]\n",
        "y_test = test.iloc[:, -1]"
      ],
      "metadata": {
        "id": "ZkYYGAyUp9wR"
      },
      "execution_count": null,
      "outputs": []
    }
  ]
}