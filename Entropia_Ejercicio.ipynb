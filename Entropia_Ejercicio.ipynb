{
  "nbformat": 4,
  "nbformat_minor": 0,
  "metadata": {
    "colab": {
      "provenance": []
    },
    "kernelspec": {
      "name": "python3",
      "display_name": "Python 3"
    },
    "language_info": {
      "name": "python"
    }
  },
  "cells": [
    {
      "cell_type": "code",
      "execution_count": null,
      "metadata": {
        "id": "4mYILF5rRfx1"
      },
      "outputs": [],
      "source": [
        "import numpy as np\n",
        "import pandas as pd\n",
        "import math\n",
        "from sklearn.tree import plot_tree\n",
        "from sklearn.tree import DecisionTreeClassifier\n",
        "from sklearn.tree import DecisionTreeRegressor\n",
        "from sklearn.model_selection import train_test_split\n",
        "from sklearn.metrics import accuracy_score , mean_squared_error, mean_absolute_error\n",
        "import matplotlib.pyplot as plt\n",
        "from sklearn.model_selection import cross_validate"
      ]
    },
    {
      "cell_type": "code",
      "source": [
        "# 'X', corresponde a las edades y 'y' corresponde a si fue aprobado o no aprobado\n",
        "X = [17, 19, 25, 30, 34]\n",
        "y = [1, 1, 0, 0, 0]  # 1=si, 0=no\n",
        "\n",
        "ifs = [18, 22, 27.5, 32]"
      ],
      "metadata": {
        "id": "uOqvMA1kRrD3"
      },
      "execution_count": null,
      "outputs": []
    },
    {
      "cell_type": "code",
      "source": [
        "def calcular_entropia_alternativa(CS, CN):\n",
        "    total = CS + CN\n",
        "    if total == 0:\n",
        "        return 0\n",
        "    p_S = CS / total\n",
        "    p_N = CN / total\n",
        "    if p_S == 0 or p_N == 0:\n",
        "        return 0\n",
        "    entropy = -p_S * math.log2(p_S) - p_N * math.log2(p_N)\n",
        "\n",
        "    return entropy"
      ],
      "metadata": {
        "id": "DOXMACwzRvZO"
      },
      "execution_count": null,
      "outputs": []
    },
    {
      "cell_type": "code",
      "source": [
        "print(entropy)"
      ],
      "metadata": {
        "colab": {
          "base_uri": "https://localhost:8080/"
        },
        "id": "K3ZSII9mUtNX",
        "outputId": "1464139d-7995-47fc-ea3e-25c32a2e4032"
      },
      "execution_count": null,
      "outputs": [
        {
          "output_type": "stream",
          "name": "stdout",
          "text": [
            "<function entropy at 0x7a416130ef80>\n"
          ]
        }
      ]
    },
    {
      "cell_type": "code",
      "source": [
        "# Calcula entropías para cada umbral\n",
        "for um in ifs:\n",
        "    CS_1 = sum(1 for X, ap in zip(X, y) if X <= um and ap == 1)\n",
        "    CN_1 = sum(1 for X, ap in zip(X, y) if X <= um and ap == 0)\n",
        "    CS_2 = sum(1 for X, ap in zip(X, y) if X > um and ap == 1)\n",
        "    CN_2 = sum(1 for X, ap in zip(X, y) if X > um and ap == 0)\n",
        "\n",
        "    entropy_1 = calcular_entropia_alternativa(CS_1, CN_1)\n",
        "    entropy_2 = calcular_entropia_alternativa(CS_2, CN_2)\n",
        "\n",
        "    entropy_total = (CS_1 + CN_1) / len(X) * entropy_1 + (CS_2 + CN_2) / len(X) * entropy_2\n",
        "\n",
        "    print(f\"Ifs: {um}\")\n",
        "    print(\"Entropy_1:\", entropy_1)\n",
        "    print(\"Entropy_2:\", entropy_2)\n",
        "    print(\"Entropy_Total:\", entropy_total)\n",
        "    print(\"\\n\")"
      ],
      "metadata": {
        "colab": {
          "base_uri": "https://localhost:8080/"
        },
        "id": "HEPrM7YHRxsW",
        "outputId": "6ad3b75f-475b-4468-b9c2-9b42b64e0ad4"
      },
      "execution_count": null,
      "outputs": [
        {
          "output_type": "stream",
          "name": "stdout",
          "text": [
            "Ifs: 18\n",
            "Entropy_1: 0\n",
            "Entropy_2: 0.8112781244591328\n",
            "Entropy_Total: 0.6490224995673063\n",
            "\n",
            "\n",
            "Ifs: 22\n",
            "Entropy_1: 0\n",
            "Entropy_2: 0\n",
            "Entropy_Total: 0.0\n",
            "\n",
            "\n",
            "Ifs: 27.5\n",
            "Entropy_1: 0.9182958340544896\n",
            "Entropy_2: 0\n",
            "Entropy_Total: 0.5509775004326937\n",
            "\n",
            "\n",
            "Ifs: 32\n",
            "Entropy_1: 1.0\n",
            "Entropy_2: 0\n",
            "Entropy_Total: 0.8\n",
            "\n",
            "\n"
          ]
        }
      ]
    }
  ]
}