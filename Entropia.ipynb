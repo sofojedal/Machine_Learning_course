{
  "nbformat": 4,
  "nbformat_minor": 0,
  "metadata": {
    "colab": {
      "provenance": []
    },
    "kernelspec": {
      "name": "python3",
      "display_name": "Python 3"
    },
    "language_info": {
      "name": "python"
    }
  },
  "cells": [
    {
      "cell_type": "code",
      "execution_count": null,
      "metadata": {
        "id": "ForTSutGW5bk"
      },
      "outputs": [],
      "source": [
        "import math\n",
        "import numpy as np"
      ]
    },
    {
      "cell_type": "markdown",
      "source": [
        "Entropia = -∑ Pi Log2 Pi  ->  4 pelotas de las 6 son azules, y 2 de las 6 son rojas\n",
        "\n",
        "Azul = 4/6 Rojo = 2/6\n",
        "\n",
        "\n",
        "sumar la entropia de las azules con las de las rojas\n",
        "\n",
        "##Teoría de la Información:\n",
        "En la teoría de la información, la entropía se utiliza para medir la cantidad de incertidumbre o la falta de información en una fuente de datos. Cuanto más impredecibles sean los datos generados por la fuente, mayor será la entropía. La entropía también se relaciona con la cantidad mínima de bits necesarios para representar de manera eficiente la información generada por la fuente.\n",
        "\n",
        "Promedio Ponderado: Se saca la entropia de ambos casos y se multiplica por la cantidad de datos en la caja divididos por la cantidad de todos los datos"
      ],
      "metadata": {
        "id": "BP458mHPYOB_"
      }
    },
    {
      "cell_type": "code",
      "source": [
        "a = (4/6)*math.log2(4/6)"
      ],
      "metadata": {
        "id": "dTssCmo_XkWN"
      },
      "execution_count": null,
      "outputs": []
    },
    {
      "cell_type": "code",
      "source": [
        "b = (2/6)*math.log2(2/6)"
      ],
      "metadata": {
        "id": "rzyvSbCUXrqp"
      },
      "execution_count": null,
      "outputs": []
    },
    {
      "cell_type": "code",
      "source": [
        "a+b"
      ],
      "metadata": {
        "colab": {
          "base_uri": "https://localhost:8080/"
        },
        "id": "tvS1w8V6X7c_",
        "outputId": "cd242982-19a9-4431-f1ac-22f3a01fdcfd"
      },
      "execution_count": null,
      "outputs": [
        {
          "output_type": "execute_result",
          "data": {
            "text/plain": [
              "-0.9182958340544896"
            ]
          },
          "metadata": {},
          "execution_count": 70
        }
      ]
    },
    {
      "cell_type": "code",
      "source": [
        "def operar():\n",
        "  c=-(((x)*math.log2(x))+((y)*math.log2(y)))\n",
        "  return c"
      ],
      "metadata": {
        "id": "aa3O1sNFYHpM"
      },
      "execution_count": null,
      "outputs": []
    },
    {
      "cell_type": "code",
      "source": [
        "x=(4/4)\n",
        "y=(0.0001/4)\n",
        "print(\"El resultado seria:\", operar())"
      ],
      "metadata": {
        "colab": {
          "base_uri": "https://localhost:8080/"
        },
        "id": "zRlDwj4iZVPW",
        "outputId": "e8cebd19-db9b-4079-a0bb-2ea683b9eaff"
      },
      "execution_count": null,
      "outputs": [
        {
          "output_type": "stream",
          "name": "stdout",
          "text": [
            "El resultado seria: 0.00038219280948873624\n"
          ]
        }
      ]
    },
    {
      "cell_type": "code",
      "source": [
        "x=(3/4)\n",
        "y=(1/4)\n",
        "print(\"El resultado seria:\", operar())"
      ],
      "metadata": {
        "colab": {
          "base_uri": "https://localhost:8080/"
        },
        "id": "P1CaY-4IZ6CW",
        "outputId": "d9d769f8-abf5-4eb2-d27a-0a09b72d082e"
      },
      "execution_count": null,
      "outputs": [
        {
          "output_type": "stream",
          "name": "stdout",
          "text": [
            "El resultado seria: 0.8112781244591328\n"
          ]
        }
      ]
    },
    {
      "cell_type": "code",
      "source": [
        "x=(2/4)\n",
        "y=(2/4)\n",
        "print(\"El resultado seria:\", operar())"
      ],
      "metadata": {
        "colab": {
          "base_uri": "https://localhost:8080/"
        },
        "id": "iuqRS-VVaRcT",
        "outputId": "577f90b1-48e5-4ca0-e1a9-e370595e040f"
      },
      "execution_count": null,
      "outputs": [
        {
          "output_type": "stream",
          "name": "stdout",
          "text": [
            "El resultado seria: 1.0\n"
          ]
        }
      ]
    },
    {
      "cell_type": "code",
      "source": [
        "x=(1/4)\n",
        "y=(3/4)\n",
        "print(\"El resultado seria:\", operar())"
      ],
      "metadata": {
        "colab": {
          "base_uri": "https://localhost:8080/"
        },
        "id": "j894mCTMaTTT",
        "outputId": "7f3cba54-e098-47d2-8dd2-3fc138cc2244"
      },
      "execution_count": null,
      "outputs": [
        {
          "output_type": "stream",
          "name": "stdout",
          "text": [
            "El resultado seria: 0.8112781244591328\n"
          ]
        }
      ]
    },
    {
      "cell_type": "code",
      "source": [
        "x=(0.0001/4)\n",
        "y=(4/4)\n",
        "print(\"El resultado seria:\", operar())"
      ],
      "metadata": {
        "colab": {
          "base_uri": "https://localhost:8080/"
        },
        "id": "CBWJKg0GaW2g",
        "outputId": "251b2495-bc97-4e5c-8af3-c2358168528b"
      },
      "execution_count": null,
      "outputs": [
        {
          "output_type": "stream",
          "name": "stdout",
          "text": [
            "El resultado seria: 0.00038219280948873624\n"
          ]
        }
      ]
    },
    {
      "cell_type": "code",
      "source": [
        "x = (1/5)\n",
        "y = (4/5)\n",
        "z = operar()*(5/6)\n",
        "print(\"El resultado del promedio seria:\", z)"
      ],
      "metadata": {
        "colab": {
          "base_uri": "https://localhost:8080/"
        },
        "id": "oE5V75Ocaafl",
        "outputId": "e93d7e15-5859-44b3-f585-f63bf98a5be7"
      },
      "execution_count": null,
      "outputs": [
        {
          "output_type": "stream",
          "name": "stdout",
          "text": [
            "El resultado del promedio seria: 0.6016067457394686\n"
          ]
        }
      ]
    },
    {
      "cell_type": "code",
      "source": [
        "x = (1/4)\n",
        "y = (3/4)\n",
        "z = (2/6) + (operar()*(4/6))\n",
        "print(\"El resultado del promedio seria:\", z)"
      ],
      "metadata": {
        "colab": {
          "base_uri": "https://localhost:8080/"
        },
        "id": "Fg5xiMMgdamF",
        "outputId": "54e5df90-153c-4cb2-f7c2-0a764c2e79e1"
      },
      "execution_count": null,
      "outputs": [
        {
          "output_type": "stream",
          "name": "stdout",
          "text": [
            "El resultado del promedio seria: 0.8741854163060885\n"
          ]
        }
      ]
    },
    {
      "cell_type": "code",
      "source": [
        "def entropy(y):\n",
        "    p = np.mean(y)\n",
        "    if p == 0 or p == 1:\n",
        "        return 0\n",
        "    return -p * np.log2(p) - (1 - p) * np.log2(1 - p)\n",
        "\n",
        "x = [17, 19, 25, 30, 34]\n",
        "y = [1, 1, 0, 0, 0]\n",
        "\n",
        "thresholds = [18, 22, 23, 32]\n",
        "\n",
        "for threshold in thresholds:\n",
        "    y_thresholded = [1 if val < threshold else 0 for val in x]\n",
        "    ent = entropy(y_thresholded)\n",
        "    print(f\"Entropía para umbral {threshold}: {ent:.4f}\")\n"
      ],
      "metadata": {
        "colab": {
          "base_uri": "https://localhost:8080/"
        },
        "id": "oETvNWmceFUK",
        "outputId": "1b24cf1d-4d7a-4387-ca62-33941402270c"
      },
      "execution_count": null,
      "outputs": [
        {
          "output_type": "stream",
          "name": "stdout",
          "text": [
            "Entropía para umbral 18: 0.7219\n",
            "Entropía para umbral 22: 0.9710\n",
            "Entropía para umbral 23: 0.9710\n",
            "Entropía para umbral 32: 0.7219\n"
          ]
        }
      ]
    },
    {
      "cell_type": "code",
      "source": [],
      "metadata": {
        "id": "USZT_oVveuR4"
      },
      "execution_count": null,
      "outputs": []
    }
  ]
}