{
  "nbformat": 4,
  "nbformat_minor": 0,
  "metadata": {
    "colab": {
      "provenance": []
    },
    "kernelspec": {
      "name": "python3",
      "display_name": "Python 3"
    },
    "language_info": {
      "name": "python"
    }
  },
  "cells": [
    {
      "cell_type": "code",
      "execution_count": null,
      "metadata": {
        "id": "2WJ4bBxCZ01C"
      },
      "outputs": [],
      "source": [
        "import numpy as np\n",
        "import pandas as pd\n",
        "import math\n",
        "from sklearn.tree import plot_tree\n",
        "from sklearn.tree import DecisionTreeClassifier\n",
        "from sklearn.tree import DecisionTreeRegressor\n",
        "from sklearn.model_selection import train_test_split\n",
        "from sklearn.metrics import accuracy_score , mean_squared_error, mean_absolute_error\n",
        "import matplotlib.pyplot as plt\n",
        "from sklearn.model_selection import cross_validate"
      ]
    },
    {
      "cell_type": "code",
      "source": [
        "notas_x1 = [1, 2, 2.5, 3.0, 4.3]\n",
        "notas_x2 = [2.3, 3.7, 4.0, 4.2, 5.0]\n",
        "\n",
        "apruebaML = [\"C0\", \"C1\", \"C1\", \"C1\", \"C0\", \"C1\"]"
      ],
      "metadata": {
        "id": "hUS1ZX04e104"
      },
      "execution_count": null,
      "outputs": []
    },
    {
      "cell_type": "code",
      "source": [
        "#Calculo Entropia\n",
        "def operar():\n",
        "  c=-(((x)*math.log2(x))+((y)*math.log2(y)))\n",
        "  return c"
      ],
      "metadata": {
        "id": "GWQBhuOXfZpx"
      },
      "execution_count": null,
      "outputs": []
    },
    {
      "cell_type": "markdown",
      "source": [
        "if\tx <= 1.5\n"
      ],
      "metadata": {
        "id": "hVzPfiGYez8Q"
      }
    },
    {
      "cell_type": "code",
      "source": [
        "notas_x1 = [1, 2, 2.5, 3.0, 4.3]\n",
        "notas_x2 = [2.3, 3.7, 4.0, 4.2, 5.0]\n",
        "\n",
        "apruebaML = [\"C0\", \"C1\", \"C1\", \"C1\", \"C0\", \"C1\"]"
      ],
      "metadata": {
        "id": "zAdQtER2evAa"
      },
      "execution_count": null,
      "outputs": []
    },
    {
      "cell_type": "code",
      "source": [
        "a= mean_squared_error((1, 2, 2.5, 3.0, 4.3), (2.3, 3.7, 4.0, 4.2, 5.0))\n",
        "a"
      ],
      "metadata": {
        "colab": {
          "base_uri": "https://localhost:8080/"
        },
        "id": "Wobh72BQfvxJ",
        "outputId": "b16a9c13-c2fa-485c-dbf3-b4aadc383c07"
      },
      "execution_count": null,
      "outputs": [
        {
          "output_type": "execute_result",
          "data": {
            "text/plain": [
              "1.752"
            ]
          },
          "metadata": {},
          "execution_count": 5
        }
      ]
    },
    {
      "cell_type": "code",
      "source": [
        "def calculate_entropy(notas_x1, notas_x2):\n",
        "    total_elements = len(notas_x1) + len(notas_x2)\n",
        "\n",
        "    if total_elements == 0:\n",
        "        return 0\n",
        "\n",
        "    probability_notas1 = len(notas_x1) / total_elements\n",
        "    probability_notas2 = len(notas_x2) / total_elements\n",
        "\n",
        "    if probability_notas1 == 0 or probability_notas2 == 0:\n",
        "        return 0\n",
        "\n",
        "    entropy_notas1 = -probability_notas1 * math.log2(probability_notas1)\n",
        "    entropy_notas2 = -probability_notas2 * math.log2(probability_notas2)\n",
        "\n",
        "    total_entropy = entropy_notas1 + entropy_notas2\n",
        "\n",
        "    return total_entropy\n",
        "\n",
        "notas_x1 = [1, 2, 2.5, 3.0, 4.3]\n",
        "notas_x2 = [2.3, 3.7, 4.0, 4.2, 5.0]\n",
        "entropy = calculate_entropy(notas_x1, notas_x2)\n",
        "print(f\"Entropía: {entropy}\")\n"
      ],
      "metadata": {
        "colab": {
          "base_uri": "https://localhost:8080/"
        },
        "id": "uFRmxoCuf3mI",
        "outputId": "8cb19bbb-2805-43e7-b6a8-e3c907a18b52"
      },
      "execution_count": null,
      "outputs": [
        {
          "output_type": "stream",
          "name": "stdout",
          "text": [
            "Entropía: 1.0\n"
          ]
        }
      ]
    }
  ]
}